{
 "cells": [
  {
   "cell_type": "markdown",
   "id": "bcded1a6-2430-4707-a78c-c82f4c5ee6fc",
   "metadata": {},
   "source": [
    "<a href = \"https://www.pieriantraining.com\"><img src=\"../PT Centered Purple.png\"> </a>\n",
    "\n",
    "<em style=\"text-align:center\">Copyrighted by Pierian Training</em>"
   ]
  },
  {
   "cell_type": "markdown",
   "id": "728f1747-b8fc-4d31-96c2-047fc83c079d",
   "metadata": {},
   "source": [
    "#  Simple Sequential Chain"
   ]
  },
  {
   "cell_type": "code",
   "execution_count": 1,
   "id": "5f4cb796-3ea3-4a63-96a3-58d9be1991a8",
   "metadata": {},
   "outputs": [],
   "source": [
    "from langchain.chat_models import ChatOpenAI\n",
    "from langchain.prompts import ChatPromptTemplate\n",
    "from langchain.chains import SimpleSequentialChain, LLMChain"
   ]
  },
  {
   "cell_type": "code",
   "execution_count": 2,
   "id": "ee4cf672-8071-42c1-917a-f04c2f88c8d6",
   "metadata": {},
   "outputs": [
    {
     "name": "stderr",
     "output_type": "stream",
     "text": [
      "c:\\Users\\ZhiQiangQUEK\\anaconda3\\envs\\llm\\Lib\\site-packages\\langchain_core\\_api\\deprecation.py:119: LangChainDeprecationWarning: The class `ChatOpenAI` was deprecated in LangChain 0.0.10 and will be removed in 0.3.0. An updated version of the class exists in the langchain-openai package and should be used instead. To use it run `pip install -U langchain-openai` and import as `from langchain_openai import ChatOpenAI`.\n",
      "  warn_deprecated(\n"
     ]
    }
   ],
   "source": [
    "f = open('../openai_key.txt')\n",
    "api_key = f.read()\n",
    "llm = ChatOpenAI(api_key=api_key)"
   ]
  },
  {
   "cell_type": "code",
   "execution_count": 3,
   "id": "75505659-35af-4eec-a890-42ab4486ea9a",
   "metadata": {},
   "outputs": [
    {
     "name": "stderr",
     "output_type": "stream",
     "text": [
      "c:\\Users\\ZhiQiangQUEK\\anaconda3\\envs\\llm\\Lib\\site-packages\\langchain_core\\_api\\deprecation.py:119: LangChainDeprecationWarning: The class `LLMChain` was deprecated in LangChain 0.1.17 and will be removed in 0.3.0. Use RunnableSequence, e.g., `prompt | llm` instead.\n",
      "  warn_deprecated(\n"
     ]
    }
   ],
   "source": [
    "template = \"Give me a simple bullet point outline for a blog post on {topic}\"\n",
    "first_prompt = ChatPromptTemplate.from_template(template)\n",
    "chain_one = LLMChain(llm=llm,prompt=first_prompt)"
   ]
  },
  {
   "cell_type": "code",
   "execution_count": 4,
   "id": "24b974d6-446f-4328-b2af-eda7041f6587",
   "metadata": {},
   "outputs": [],
   "source": [
    "template = \"Write a blog post using this outline: {outline}\"\n",
    "second_prompt = ChatPromptTemplate.from_template(template)\n",
    "chain_two = LLMChain(llm=llm,prompt=second_prompt)"
   ]
  },
  {
   "cell_type": "code",
   "execution_count": 5,
   "id": "9f3919a0-fee1-48bb-aeab-4be80f4799fc",
   "metadata": {},
   "outputs": [],
   "source": [
    "full_chain = SimpleSequentialChain(chains=[chain_one,chain_two],\n",
    "                                  verbose=True)"
   ]
  },
  {
   "cell_type": "code",
   "execution_count": 6,
   "id": "23708ed6-3511-4adb-83ad-ca24cd936fd8",
   "metadata": {},
   "outputs": [
    {
     "name": "stderr",
     "output_type": "stream",
     "text": [
      "c:\\Users\\ZhiQiangQUEK\\anaconda3\\envs\\llm\\Lib\\site-packages\\langchain_core\\_api\\deprecation.py:119: LangChainDeprecationWarning: The method `Chain.run` was deprecated in langchain 0.1.0 and will be removed in 0.3.0. Use invoke instead.\n",
      "  warn_deprecated(\n"
     ]
    },
    {
     "name": "stdout",
     "output_type": "stream",
     "text": [
      "\n",
      "\n",
      "\u001b[1m> Entering new SimpleSequentialChain chain...\u001b[0m\n",
      "\u001b[36;1m\u001b[1;3m- Introduction to Data Science and its importance\n",
      "- Explanation of what data science is and how it is used in various industries\n",
      "- Overview of the key skills and tools needed for a career in data science\n",
      "- Discussion on the different types of data and how they are analyzed\n",
      "- Explanation of the data science process, including data collection, cleaning, analysis, and interpretation\n",
      "- Examples of real-world applications of data science\n",
      "- Tips for getting started in data science, including resources for learning and networking opportunities\n",
      "- Conclusion highlighting the growing demand for data scientists and the potential for a rewarding career in the field\u001b[0m\n",
      "\u001b[33;1m\u001b[1;3mIn today's digital age, data has become an invaluable asset for businesses and organizations looking to make informed decisions and drive innovation. Data science, a multidisciplinary field that uses scientific methods, algorithms, and systems to extract knowledge and insights from structured and unstructured data, plays a crucial role in this process. In this blog post, we will explore the world of data science, its importance, key skills and tools needed for a career in this field, the different types of data and how they are analyzed, the data science process, real-world applications, tips for getting started, and the growing demand for data scientists.\n",
      "\n",
      "Data science is a rapidly growing field that is revolutionizing industries ranging from healthcare and finance to marketing and technology. By using advanced analytics, machine learning, and artificial intelligence techniques, data scientists can uncover patterns, trends, and relationships within data that can inform decision-making and drive business strategy. In today's data-driven world, companies that leverage data science are able to gain a competitive edge and stay ahead of the curve.\n",
      "\n",
      "To succeed in a career in data science, individuals need a combination of technical skills, such as programming, statistical analysis, and data visualization, as well as soft skills, such as critical thinking, problem-solving, and communication. Tools like Python, R, SQL, and Tableau are commonly used in the field, and familiarity with these technologies is essential for data scientists to effectively analyze and interpret data.\n",
      "\n",
      "Data comes in various forms, including structured data (e.g., databases and spreadsheets) and unstructured data (e.g., text, images, and videos). Data scientists use a variety of techniques, such as data mining, machine learning, and natural language processing, to extract insights from these different types of data and make predictions or recommendations based on their findings.\n",
      "\n",
      "The data science process typically involves several steps, including data collection, cleaning, analysis, and interpretation. Data scientists must first gather relevant data from various sources, clean and preprocess the data to ensure its quality and consistency, analyze the data using statistical and machine learning techniques, and interpret the results to draw meaningful conclusions and insights.\n",
      "\n",
      "Real-world applications of data science are vast and diverse, ranging from personalized recommendations on e-commerce websites to predictive maintenance in manufacturing plants. Data science is used in healthcare to analyze patient data and improve treatment outcomes, in finance to detect fraudulent transactions and manage risk, and in marketing to target specific customer segments and optimize advertising campaigns.\n",
      "\n",
      "For those interested in pursuing a career in data science, there are many resources available for learning, including online courses, bootcamps, and tutorials. Networking opportunities, such as attending conferences, joining meetups, and participating in hackathons, can also help aspiring data scientists connect with industry professionals and expand their knowledge and skills.\n",
      "\n",
      "In conclusion, the demand for data scientists is on the rise, and there is no shortage of opportunities for individuals looking to enter this exciting and rewarding field. As businesses continue to generate massive amounts of data, the need for skilled data scientists who can make sense of this data and derive actionable insights will only increase. By acquiring the necessary skills and tools, staying up-to-date with the latest trends and technologies, and gaining hands-on experience through projects and internships, aspiring data scientists can position themselves for a successful and fulfilling career in data science.\u001b[0m\n",
      "\n",
      "\u001b[1m> Finished chain.\u001b[0m\n",
      "In today's digital age, data has become an invaluable asset for businesses and organizations looking to make informed decisions and drive innovation. Data science, a multidisciplinary field that uses scientific methods, algorithms, and systems to extract knowledge and insights from structured and unstructured data, plays a crucial role in this process. In this blog post, we will explore the world of data science, its importance, key skills and tools needed for a career in this field, the different types of data and how they are analyzed, the data science process, real-world applications, tips for getting started, and the growing demand for data scientists.\n",
      "\n",
      "Data science is a rapidly growing field that is revolutionizing industries ranging from healthcare and finance to marketing and technology. By using advanced analytics, machine learning, and artificial intelligence techniques, data scientists can uncover patterns, trends, and relationships within data that can inform decision-making and drive business strategy. In today's data-driven world, companies that leverage data science are able to gain a competitive edge and stay ahead of the curve.\n",
      "\n",
      "To succeed in a career in data science, individuals need a combination of technical skills, such as programming, statistical analysis, and data visualization, as well as soft skills, such as critical thinking, problem-solving, and communication. Tools like Python, R, SQL, and Tableau are commonly used in the field, and familiarity with these technologies is essential for data scientists to effectively analyze and interpret data.\n",
      "\n",
      "Data comes in various forms, including structured data (e.g., databases and spreadsheets) and unstructured data (e.g., text, images, and videos). Data scientists use a variety of techniques, such as data mining, machine learning, and natural language processing, to extract insights from these different types of data and make predictions or recommendations based on their findings.\n",
      "\n",
      "The data science process typically involves several steps, including data collection, cleaning, analysis, and interpretation. Data scientists must first gather relevant data from various sources, clean and preprocess the data to ensure its quality and consistency, analyze the data using statistical and machine learning techniques, and interpret the results to draw meaningful conclusions and insights.\n",
      "\n",
      "Real-world applications of data science are vast and diverse, ranging from personalized recommendations on e-commerce websites to predictive maintenance in manufacturing plants. Data science is used in healthcare to analyze patient data and improve treatment outcomes, in finance to detect fraudulent transactions and manage risk, and in marketing to target specific customer segments and optimize advertising campaigns.\n",
      "\n",
      "For those interested in pursuing a career in data science, there are many resources available for learning, including online courses, bootcamps, and tutorials. Networking opportunities, such as attending conferences, joining meetups, and participating in hackathons, can also help aspiring data scientists connect with industry professionals and expand their knowledge and skills.\n",
      "\n",
      "In conclusion, the demand for data scientists is on the rise, and there is no shortage of opportunities for individuals looking to enter this exciting and rewarding field. As businesses continue to generate massive amounts of data, the need for skilled data scientists who can make sense of this data and derive actionable insights will only increase. By acquiring the necessary skills and tools, staying up-to-date with the latest trends and technologies, and gaining hands-on experience through projects and internships, aspiring data scientists can position themselves for a successful and fulfilling career in data science.\n"
     ]
    }
   ],
   "source": [
    "result = full_chain.run(\"Data Science\")\n",
    "print(result)"
   ]
  }
 ],
 "metadata": {
  "kernelspec": {
   "display_name": "Python 3 (ipykernel)",
   "language": "python",
   "name": "python3"
  },
  "language_info": {
   "codemirror_mode": {
    "name": "ipython",
    "version": 3
   },
   "file_extension": ".py",
   "mimetype": "text/x-python",
   "name": "python",
   "nbconvert_exporter": "python",
   "pygments_lexer": "ipython3",
   "version": "3.12.3"
  }
 },
 "nbformat": 4,
 "nbformat_minor": 5
}
