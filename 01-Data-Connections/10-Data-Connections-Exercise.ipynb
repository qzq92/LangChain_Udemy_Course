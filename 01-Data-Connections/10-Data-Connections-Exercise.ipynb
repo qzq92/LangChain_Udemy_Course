{
 "cells": [
  {
   "cell_type": "markdown",
   "id": "bcded1a6-2430-4707-a78c-c82f4c5ee6fc",
   "metadata": {},
   "source": [
    "<a href = \"https://www.pieriantraining.com\"><img src=\"../PT Centered Purple.png\"> </a>\n",
    "\n",
    "<em style=\"text-align:center\">Copyrighted by Pierian Training</em>"
   ]
  },
  {
   "cell_type": "markdown",
   "id": "728f1747-b8fc-4d31-96c2-047fc83c079d",
   "metadata": {},
   "source": [
    "#  Data Connections Exercise\n",
    "\n",
    "## Ask a Legal Research Assistant Bot about the US Constitution\n",
    "\n",
    "Your function should do the following:\n",
    "\n",
    "* Read the US_Constitution.txt file inside the some_data folder\n",
    "* Split this into chunks (you choose the size)\n",
    "* Write this to a ChromaDB Vector Store\n",
    "* Use Context Compression to return the relevant portion of the document to the question"
   ]
  },
  {
   "cell_type": "code",
   "execution_count": 1,
   "id": "3a17f111-e290-4ffc-b614-4d10e5673087",
   "metadata": {},
   "outputs": [],
   "source": [
    "# Build a sample vectorDB\n",
    "from langchain.vectorstores import Chroma\n",
    "from langchain.chat_models import ChatOpenAI\n",
    "from langchain.document_loaders import TextLoader\n",
    "from langchain.embeddings.openai import OpenAIEmbeddings\n",
    "from langchain.text_splitter import CharacterTextSplitter\n",
    "from langchain.retrievers import ContextualCompressionRetriever\n",
    "from langchain.retrievers.document_compressors import LLMChainExtractor "
   ]
  },
  {
   "cell_type": "code",
   "execution_count": 10,
   "id": "dc7dafe9-7e3b-4bb5-abeb-4c99b66f623b",
   "metadata": {},
   "outputs": [],
   "source": [
    "def us_constitution_helper(question):\n",
    "    '''\n",
    "    Takes in a question about the US Constitution and returns the most relevant\n",
    "    part of the constitution. Notice it may not directly answer the actual question!\n",
    "    \n",
    "    Follow the steps below to fill out this function:\n",
    "    '''\n",
    "    # Read apikey information for use when calling OpenAI libraries\n",
    "    f = open('../openai_key.txt')\n",
    "    api_key = f.read()\n",
    "    \n",
    "    # PART ONE:\n",
    "    # LOAD \"some_data/US_Constitution in a Document object\n",
    "    loader = TextLoader('./some_data/US_Constitution.txt')\n",
    "\n",
    "    data = loader.load()\n",
    "\n",
    "    # PART TWO\n",
    "    # Split the document into chunks (you choose how and what size)\n",
    "    text_splitter = CharacterTextSplitter(separator=\"\\n\\n\",chunk_size=1000)\n",
    "    docs = text_splitter.split_documents(data)\n",
    "\n",
    "\n",
    "    # PART THREE\n",
    "    # EMBED THE Documents (now in chunks) to a persisted ChromaDB\n",
    "\n",
    "    # Embedding function instantiated\n",
    "    embedding_function = OpenAIEmbeddings(api_key=api_key)\n",
    "\n",
    "    # Embed created document using above emedding function\n",
    "    db_connection = Chroma.from_documents(docs, embedding_function,persist_directory='./us_constitution_speech_embedding_db')\n",
    "    # Helpful to force a save\n",
    "    db_connection.persist()\n",
    "\n",
    "    # PART FOUR\n",
    "    # Use ChatOpenAI and ContextualCompressionRetriever to return the most\n",
    "    # relevant part of the documents.\n",
    "\n",
    "    # Instantiate ChatOpenAI\n",
    "    llm = ChatOpenAI(api_key=api_key)\n",
    "    #  LLMChainExtractor uses an LLMChain to extract from each document only the statements that are relevant to the query. initialised by LLM\n",
    "    compressor = LLMChainExtractor.from_llm(llm=llm)\n",
    "    compression_retriever = ContextualCompressionRetriever(base_compressor=compressor, base_retriever=db_connection.as_retriever())\n",
    "    \n",
    "    # Get the compressed docs based on questions. May return multiple instances\n",
    "    compressed_docs = compression_retriever.get_relevant_documents(question)\n",
    "\n",
    "    return compressed_docs[0].page_content"
   ]
  },
  {
   "cell_type": "markdown",
   "id": "e36c9e44-c166-4724-a1a9-98dfde0721d7",
   "metadata": {},
   "source": [
    "## Example Usage:\n",
    "\n",
    "Notice how it doesn't return an entire Document of a large chunk size, but instead the \"compressed\" version!"
   ]
  },
  {
   "cell_type": "code",
   "execution_count": 11,
   "id": "b6ca1a37-bc2f-49de-af25-22bc7437bff0",
   "metadata": {},
   "outputs": [
    {
     "name": "stderr",
     "output_type": "stream",
     "text": [
      "Created a chunk of size 1035, which is longer than the specified 1000\n",
      "Created a chunk of size 1144, which is longer than the specified 1000\n",
      "Created a chunk of size 1576, which is longer than the specified 1000\n",
      "Created a chunk of size 2353, which is longer than the specified 1000\n",
      "Created a chunk of size 1670, which is longer than the specified 1000\n",
      "c:\\Users\\ZhiQiangQUEK\\anaconda3\\envs\\llm\\Lib\\site-packages\\langchain_core\\_api\\deprecation.py:119: LangChainDeprecationWarning: The class `OpenAIEmbeddings` was deprecated in LangChain 0.0.9 and will be removed in 0.3.0. An updated version of the class exists in the langchain-openai package and should be used instead. To use it run `pip install -U langchain-openai` and import as `from langchain_openai import OpenAIEmbeddings`.\n",
      "  warn_deprecated(\n",
      "c:\\Users\\ZhiQiangQUEK\\anaconda3\\envs\\llm\\Lib\\site-packages\\langchain_core\\_api\\deprecation.py:119: LangChainDeprecationWarning: Since Chroma 0.4.x the manual persistence method is no longer supported as docs are automatically persisted.\n",
      "  warn_deprecated(\n",
      "c:\\Users\\ZhiQiangQUEK\\anaconda3\\envs\\llm\\Lib\\site-packages\\langchain_core\\_api\\deprecation.py:119: LangChainDeprecationWarning: The class `ChatOpenAI` was deprecated in LangChain 0.0.10 and will be removed in 0.3.0. An updated version of the class exists in the langchain-openai package and should be used instead. To use it run `pip install -U langchain-openai` and import as `from langchain_openai import ChatOpenAI`.\n",
      "  warn_deprecated(\n",
      "c:\\Users\\ZhiQiangQUEK\\anaconda3\\envs\\llm\\Lib\\site-packages\\langchain_core\\_api\\deprecation.py:119: LangChainDeprecationWarning: The method `BaseRetriever.get_relevant_documents` was deprecated in langchain-core 0.1.46 and will be removed in 0.3.0. Use invoke instead.\n",
      "  warn_deprecated(\n"
     ]
    },
    {
     "name": "stdout",
     "output_type": "stream",
     "text": [
      "13th Amendment\n",
      "Section 1\n",
      "Neither slavery nor involuntary servitude, except as a punishment for crime whereof the party shall have been duly convicted, shall exist within the United States, or any place subject to their jurisdiction.\n"
     ]
    }
   ],
   "source": [
    "print(us_constitution_helper(\"What is the 13th Amendment?\"))"
   ]
  }
 ],
 "metadata": {
  "kernelspec": {
   "display_name": "Python 3 (ipykernel)",
   "language": "python",
   "name": "python3"
  },
  "language_info": {
   "codemirror_mode": {
    "name": "ipython",
    "version": 3
   },
   "file_extension": ".py",
   "mimetype": "text/x-python",
   "name": "python",
   "nbconvert_exporter": "python",
   "pygments_lexer": "ipython3",
   "version": "3.12.3"
  }
 },
 "nbformat": 4,
 "nbformat_minor": 5
}
