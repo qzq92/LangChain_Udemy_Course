{
 "cells": [
  {
   "cell_type": "markdown",
   "id": "378f3df7-19b9-49a1-b695-5d578138b4ae",
   "metadata": {},
   "source": [
    "<a href = \"https://www.pieriantraining.com\"><img src=\"../PT Centered Purple.png\"> </a>\n",
    "\n",
    "<em style=\"text-align:center\">Copyrighted by Pierian Training</em>"
   ]
  },
  {
   "cell_type": "markdown",
   "id": "cf5ff2a8-fcc1-4ef6-a91b-a56f29a0fc2c",
   "metadata": {},
   "source": [
    "# Model IO Exercise \n",
    "\n",
    "The purpose of this exercise is to test your understanding of building out Model IO systems. You will also hopefully notice the need to chain responses together, which we will cover later in this course!\n",
    "\n",
    "Watch the video for a full overview on minimum outputs this class should be capable of, but feel free to expand on this project, or to just treat it as a code-along!"
   ]
  },
  {
   "cell_type": "markdown",
   "id": "6f36f621-d2cb-43e7-89ad-41691ab266c1",
   "metadata": {},
   "source": [
    "## History Quiz\n",
    "\n",
    "Our main goal is to use LangChain and Python to create a very simple class with a few methods for:\n",
    "* Writing a historical question that has a date as the correct answer\n",
    "* Getting the correct answer from LLM\n",
    "* Getting a Human user's best guess at at correct answer\n",
    "* Checking/reporting the difference between the correct answer and the user answer"
   ]
  },
  {
   "cell_type": "markdown",
   "id": "6421bf0c-6aca-4291-9aaf-473b78b9be77",
   "metadata": {},
   "source": [
    "### Suggested Imports\n",
    "\n",
    "Feel free to accomplish this task however you prefer!"
   ]
  },
  {
   "cell_type": "code",
   "execution_count": 1,
   "id": "3cde30a6-5b0b-475f-9460-809e174cac97",
   "metadata": {},
   "outputs": [],
   "source": [
    "from langchain.prompts import (\n",
    "    ChatPromptTemplate,\n",
    "    PromptTemplate,\n",
    "    SystemMessagePromptTemplate,\n",
    "    AIMessagePromptTemplate,\n",
    "    HumanMessagePromptTemplate,\n",
    ")\n",
    "from datetime import datetime\n",
    "from langchain.llms import OpenAI\n",
    "from langchain.output_parsers import DatetimeOutputParser\n",
    "from langchain.chat_models import ChatOpenAI"
   ]
  },
  {
   "cell_type": "code",
   "execution_count": 6,
   "id": "ed58960d",
   "metadata": {},
   "outputs": [],
   "source": [
    "f = open('../openai_key.txt')\n",
    "api_key = f.read()"
   ]
  },
  {
   "cell_type": "code",
   "execution_count": 63,
   "id": "c1e1fce6-7f28-4d74-a92b-0424c6abcd30",
   "metadata": {},
   "outputs": [],
   "source": [
    "class HistoryQuiz():\n",
    "    \n",
    "    def create_history_question(self,topic):\n",
    "        '''\n",
    "        This method should output a historical question about the topic that has a date as the correct answer.\n",
    "        For example:\n",
    "        \n",
    "            \"On what date did World War 2 end?\"\n",
    "            \n",
    "        '''\n",
    "        # Guidance to llm\n",
    "        system_template = \"You are a historian who write quizzes on historical events involving {topic} that occurred.\"\n",
    "        system_message_prompt = SystemMessagePromptTemplate.from_template(system_template)\n",
    "\n",
    "        # What we want to achieve\n",
    "        human_template = \"Please give a quiz question requiring the date of occurrence as the answer. You only return the quiz question.\"\n",
    "\n",
    "        human_message_prompt = HumanMessagePromptTemplate.from_template(human_template)\n",
    "\n",
    "        # Input prompts to chat prompt template, then format the variable with inputs and apply to_messages to convert\n",
    "        chat_prompt = ChatPromptTemplate.from_messages([system_message_prompt, human_message_prompt])\n",
    "\n",
    "        request = chat_prompt.format_prompt(topic=topic).to_messages()\n",
    "        llm = ChatOpenAI(openai_api_key=api_key)\n",
    "\n",
    "        result = llm(request)\n",
    "        return result.content\n",
    "    \n",
    "    def get_AI_answer(self,question):\n",
    "        '''\n",
    "        This method should get the answer to the historical question from the method above.\n",
    "        Note: This answer must be in datetime format! Use DateTimeOutputParser to confirm!\n",
    "        \n",
    "        September 2, 1945 --> datetime.datetime(1945, 9, 2, 0, 0)\n",
    "        '''\n",
    "\n",
    "        # Define parser required\n",
    "        output_parser = DatetimeOutputParser()\n",
    "        # Guidance to llm\n",
    "        system_template = f\"You are to provide the date as an answer to the question given\"\n",
    "        system_message_prompt = SystemMessagePromptTemplate.from_template(system_template)\n",
    "\n",
    "        # What we want to achieve for response\n",
    "        ai_template = \"Please answer the given question: {question} \\\\n\\\\n in the format as follows: {format_instructions}\"\n",
    "\n",
    "        ai_message_prompt = AIMessagePromptTemplate.from_template(ai_template)\n",
    "\n",
    "        # Input prompts to chat prompt template, then format the variable with inputs\n",
    "        chat_prompt = ChatPromptTemplate.from_messages([system_message_prompt, ai_message_prompt])\n",
    "\n",
    "        # Format the chat prompt with input variables:  question and format_instructions (datetimeoutput parser) \n",
    "        request = chat_prompt.format_prompt(\n",
    "            question=question,\n",
    "            format_instructions=output_parser.get_format_instructions()\n",
    "        ).to_messages()\n",
    "\n",
    "        # Use ChatOpenAI to provide completion based on formatted chat prompt\n",
    "        llm = ChatOpenAI(openai_api_key=api_key)\n",
    "        correct_datetime = llm(request).content\n",
    "        \n",
    "        # Attempt to parse second round incase prompt template fails\n",
    "        correct_datetime = output_parser.parse(correct_datetime)\n",
    "        return correct_datetime\n",
    "    \n",
    "    def get_user_answer(self,question):\n",
    "        '''\n",
    "        This method should grab a user answer and convert it to datetime. It should collect a Year, Month, and Day.\n",
    "        You can just use input() for this.\n",
    "        '''\n",
    "        year = input(\"Enter the year:\")\n",
    "        mth = input(\"Enter the month (1-12):\")\n",
    "        day = input(\"Enter the day (1-31):\")\n",
    "\n",
    "        dt = datetime(year=int(year), month=int(mth), day=int(day))\n",
    "        return dt\n",
    "        \n",
    "        \n",
    "    def check_user_answer(self,user_answer,ai_answer):\n",
    "        '''\n",
    "        Should check the user answer against the AI answer and return the difference between them\n",
    "        '''\n",
    "        # print or return the difference between the answers here!\n",
    "        \n",
    "        # Stringify difference in dates\n",
    "        date_diff = str(user_answer - ai_answer)\n",
    "\n",
    "        return_str =  f\"The difference between the dates is: {date_diff}\"\n",
    "        \n",
    "        return return_str"
   ]
  },
  {
   "cell_type": "markdown",
   "id": "ff79a31c-3189-48d2-b1af-bf1a9eef9e1c",
   "metadata": {},
   "source": [
    "### Example Usage\n",
    "\n",
    "Feel free to expand or edit this project. To keep things simple we have every method return an object that will then feed into a new method!"
   ]
  },
  {
   "cell_type": "code",
   "execution_count": 64,
   "id": "937e4900-1148-4836-835b-dd2936b8e30e",
   "metadata": {},
   "outputs": [],
   "source": [
    "quiz_bot = HistoryQuiz()"
   ]
  },
  {
   "cell_type": "code",
   "execution_count": 65,
   "id": "5dd56ef3-819d-4996-b9a5-1cfad88e5eed",
   "metadata": {},
   "outputs": [],
   "source": [
    "question = quiz_bot.create_history_question(topic='World War 2')"
   ]
  },
  {
   "cell_type": "code",
   "execution_count": 66,
   "id": "9eecb542-6018-4526-9f89-24f031468829",
   "metadata": {},
   "outputs": [
    {
     "data": {
      "text/plain": [
       "'On what date did the Allied forces launch the D-Day invasion of Normandy during World War II?'"
      ]
     },
     "execution_count": 66,
     "metadata": {},
     "output_type": "execute_result"
    }
   ],
   "source": [
    "question"
   ]
  },
  {
   "cell_type": "code",
   "execution_count": 67,
   "id": "c86320ce-4497-4eb0-80f5-871736cb51e7",
   "metadata": {},
   "outputs": [],
   "source": [
    "ai_answer = quiz_bot.get_AI_answer(question)"
   ]
  },
  {
   "cell_type": "code",
   "execution_count": 68,
   "id": "4be20b47-8287-4656-8253-1ec1c52fad43",
   "metadata": {},
   "outputs": [
    {
     "data": {
      "text/plain": [
       "datetime.datetime(1944, 6, 6, 0, 0)"
      ]
     },
     "execution_count": 68,
     "metadata": {},
     "output_type": "execute_result"
    }
   ],
   "source": [
    "# Day After Pearl Harbor\n",
    "ai_answer"
   ]
  },
  {
   "cell_type": "code",
   "execution_count": 69,
   "id": "d8537e7e-b955-4ffd-84ba-a26d072b4a05",
   "metadata": {},
   "outputs": [],
   "source": [
    "user_answer = quiz_bot.get_user_answer(question)"
   ]
  },
  {
   "cell_type": "code",
   "execution_count": 70,
   "id": "e8eb40a9-789e-4666-81a6-a6a783dedaf6",
   "metadata": {},
   "outputs": [
    {
     "data": {
      "text/plain": [
       "datetime.datetime(1944, 6, 1, 0, 0)"
      ]
     },
     "execution_count": 70,
     "metadata": {},
     "output_type": "execute_result"
    }
   ],
   "source": [
    "user_answer"
   ]
  },
  {
   "cell_type": "code",
   "execution_count": 71,
   "id": "e22a7cf0-f199-4ace-a909-c73492e86e47",
   "metadata": {},
   "outputs": [
    {
     "data": {
      "text/plain": [
       "'The difference between the dates is: -5 days, 0:00:00'"
      ]
     },
     "execution_count": 71,
     "metadata": {},
     "output_type": "execute_result"
    }
   ],
   "source": [
    "quiz_bot.check_user_answer(user_answer,ai_answer)"
   ]
  }
 ],
 "metadata": {
  "kernelspec": {
   "display_name": "Python 3 (ipykernel)",
   "language": "python",
   "name": "python3"
  },
  "language_info": {
   "codemirror_mode": {
    "name": "ipython",
    "version": 3
   },
   "file_extension": ".py",
   "mimetype": "text/x-python",
   "name": "python",
   "nbconvert_exporter": "python",
   "pygments_lexer": "ipython3",
   "version": "3.12.3"
  }
 },
 "nbformat": 4,
 "nbformat_minor": 5
}
