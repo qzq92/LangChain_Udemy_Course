{
 "cells": [
  {
   "cell_type": "markdown",
   "id": "ede50d4d-6b9b-46b4-946c-edc6bde899c7",
   "metadata": {},
   "source": [
    "<a href = \"https://www.pieriantraining.com\"><img src=\"../PT Centered Purple.png\"> </a>\n",
    "\n",
    "<em style=\"text-align:center\">Copyrighted by Pierian Training</em>"
   ]
  },
  {
   "cell_type": "markdown",
   "id": "6c706772-7bbb-41a9-ab96-6480bc3ef2a3",
   "metadata": {
    "tags": []
   },
   "source": [
    "# Prompts and Models Exercise\n",
    "\n",
    "### NOTE: FEEL FREE TO JUST TREAT THIS AS A CODE ALONG EXAMPLE IF YOU DONT WANT AN EXERCISE BUT RATHER WATCH AN EXAMPLE.\n",
    "\n",
    "**TASK: Create a Python function that uses Prompts and Chat internally to give travel ideas related to two variables:**\n",
    "\n",
    "    * An Interest or Hobby\n",
    "    * A Budget\n",
    "    \n",
    "Remember that you should also decide on a system prompt. The end function will just be a nice wrapper on top of all the previous LangChain components we've discussed earlier."
   ]
  },
  {
   "cell_type": "code",
   "execution_count": 1,
   "id": "b4e6adae-ddfa-403f-afbc-eac1ff964c54",
   "metadata": {},
   "outputs": [],
   "source": [
    "def travel_idea(interest,budget):\n",
    "    '''\n",
    "    INPUTS:\n",
    "        interest: A str interest or hobby (e.g. fishing)\n",
    "        budget: A str budget (e.g. $10,000)\n",
    "    '''\n",
    "    pass"
   ]
  },
  {
   "cell_type": "markdown",
   "id": "34d0ecc5-a526-4a9b-933f-e7785f9401df",
   "metadata": {},
   "source": [
    "**Example Solution**\n",
    "\n",
    "Keep in mind your solution may differ slightly, but as long as it works, that's ok!"
   ]
  },
  {
   "cell_type": "code",
   "execution_count": 5,
   "id": "320be1cb-a639-460d-8472-fb6def536b19",
   "metadata": {},
   "outputs": [],
   "source": [
    "# DONT FORGET TO SETUP YOUR API KEY!\n",
    "from langchain.chat_models import ChatOpenAI\n",
    "chat = ChatOpenAI(openai_api_key=api_key)\n",
    "from langchain.prompts import (\n",
    "    ChatPromptTemplate,\n",
    "    PromptTemplate,\n",
    "    SystemMessagePromptTemplate,\n",
    "    AIMessagePromptTemplate,\n",
    "    HumanMessagePromptTemplate,\n",
    ")\n",
    "from langchain.schema import (\n",
    "    AIMessage,\n",
    "    HumanMessage,\n",
    "    SystemMessage\n",
    ")\n",
    "f = open('openai_key.txt')\n",
    "api_key = f.read()\n",
    "llm = ChatOpenAI(openai_api_key=api_key)"
   ]
  },
  {
   "cell_type": "code",
   "execution_count": 6,
   "id": "df2fd2ad-66f9-4462-9436-5cc5e7ea2d7f",
   "metadata": {},
   "outputs": [],
   "source": [
    "# DON\"T FORGET YOUR IMPORTS!\n",
    "\n",
    "def travel_idea(interest,budget):\n",
    "    '''\n",
    "    INPUTS:\n",
    "        interest: A str interest or hobby (e.g. fishing)\n",
    "        budget: A str budget (e.g. $10,000)\n",
    "    '''\n",
    "    system_template = \"You are a travel agent who is tasked to suggest a travel itinerary based on provided interest and budget.\"\n",
    "\n",
    "    system_message_prompt = SystemMessagePromptTemplate.from_template(system_template)\n",
    "\n",
    "    human_template=\"Please provide an example travel itinerary based on my interest in {interest} and budget of {budget}.\"\n",
    "    human_message_prompt = HumanMessagePromptTemplate.from_template(human_template)\n",
    "    \n",
    "    # Put both system/human prompts into chat prompts\n",
    "    chat_prompt = ChatPromptTemplate.from_messages([system_message_prompt, human_message_prompt])\n",
    "\n",
    "    request = chat_prompt.format_prompt(interest=interest, budget=budget).to_messages()\n",
    "    \n",
    "    response = llm(request)\n",
    "    return response.content"
   ]
  },
  {
   "cell_type": "code",
   "execution_count": 7,
   "id": "f7e240b6-96cf-4163-ad19-90a44cf7ef24",
   "metadata": {},
   "outputs": [
    {
     "name": "stderr",
     "output_type": "stream",
     "text": [
      "c:\\Users\\ZhiQiangQUEK\\anaconda3\\envs\\llm\\Lib\\site-packages\\langchain_core\\_api\\deprecation.py:119: LangChainDeprecationWarning: The method `BaseChatModel.__call__` was deprecated in langchain-core 0.1.7 and will be removed in 0.3.0. Use invoke instead.\n",
      "  warn_deprecated(\n"
     ]
    },
    {
     "name": "stdout",
     "output_type": "stream",
     "text": [
      "content='Certainly! Here\\'s a suggested travel itinerary for a fishing trip based on your interest and budget of $10,000:\\n\\nDestination: Alaska\\n\\nDay 1-3: Anchorage\\n- Arrive in Anchorage and explore the city.\\n- Visit local fishing shops to purchase any necessary gear.\\n- Enjoy a delicious seafood dinner at a local restaurant.\\n\\nDay 4-6: Kenai Peninsula\\n- Drive to the Kenai Peninsula, known for its world-class fishing opportunities.\\n- Stay in a cozy cabin or lodge along the Kenai River.\\n- Spend your days fishing for salmon, trout, and other species in the pristine waters.\\n\\nDay 7-9: Kodiak Island\\n- Take a short flight to Kodiak Island, famous for its abundant marine wildlife.\\n- Stay in a lodge overlooking the ocean.\\n- Enjoy guided fishing excursions for halibut, salmon, and rockfish.\\n\\nDay 10-12: Sitka\\n- Fly to Sitka, a picturesque town with a rich fishing history.\\n- Explore the town\\'s historic sites and local seafood markets.\\n- Charter a fishing boat for deep-sea fishing adventures.\\n\\nDay 13-15: Ketchikan\\n- Travel to Ketchikan, known as the \"Salmon Capital of the World.\"\\n- Stay in a waterfront hotel and visit the local fish hatchery.\\n- Spend your last days fishing for salmon and exploring the town\\'s charming shops and restaurants.\\n\\nDay 16: Departure\\n- Return to Anchorage for your departure flight home.\\n\\nTotal estimated cost:\\n- Flights: $2,500\\n- Accommodation: $3,000\\n- Meals and activities: $2,500\\n- Fishing charters and equipment rental: $2,000\\n\\nTotal: $10,000\\n\\nThis itinerary allows you to experience some of the best fishing destinations in Alaska within your budget. Enjoy the thrill of fishing in the wild and scenic beauty of the Last Frontier!' response_metadata={'token_usage': {'completion_tokens': 393, 'prompt_tokens': 51, 'total_tokens': 444}, 'model_name': 'gpt-3.5-turbo', 'system_fingerprint': None, 'finish_reason': 'stop', 'logprobs': None} id='run-2b09c721-9bcd-4670-819b-689f4a7fcbc8-0'\n"
     ]
    }
   ],
   "source": [
    "print(travel_idea('fishing','$10,000'))"
   ]
  }
 ],
 "metadata": {
  "kernelspec": {
   "display_name": "Python 3 (ipykernel)",
   "language": "python",
   "name": "python3"
  },
  "language_info": {
   "codemirror_mode": {
    "name": "ipython",
    "version": 3
   },
   "file_extension": ".py",
   "mimetype": "text/x-python",
   "name": "python",
   "nbconvert_exporter": "python",
   "pygments_lexer": "ipython3",
   "version": "3.12.3"
  }
 },
 "nbformat": 4,
 "nbformat_minor": 5
}
